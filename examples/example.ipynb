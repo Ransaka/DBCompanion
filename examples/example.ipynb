{
 "cells": [
  {
   "cell_type": "code",
   "execution_count": 10,
   "metadata": {},
   "outputs": [
    {
     "name": "stdout",
     "output_type": "stream",
     "text": [
      "Collecting dbcompanion\n",
      "  Downloading dbcompanion-0.0.7-py3-none-any.whl.metadata (2.1 kB)\n",
      "Requirement already satisfied: markdown>=3.5.2 in /opt/homebrew/lib/python3.11/site-packages (from dbcompanion) (3.5.2)\n",
      "Requirement already satisfied: openai in /opt/homebrew/lib/python3.11/site-packages (from dbcompanion) (1.8.0)\n",
      "Requirement already satisfied: pandas>=1.5.1 in /opt/homebrew/lib/python3.11/site-packages (from dbcompanion) (1.5.3)\n",
      "Collecting pydantic-settings>=2 (from dbcompanion)\n",
      "  Downloading pydantic_settings-2.1.0-py3-none-any.whl.metadata (2.9 kB)\n",
      "Requirement already satisfied: pydantic>=2 in /opt/homebrew/lib/python3.11/site-packages (from dbcompanion) (2.4.2)\n",
      "Requirement already satisfied: pymysql>=1.1.0 in /opt/homebrew/lib/python3.11/site-packages (from dbcompanion) (1.1.0)\n",
      "Requirement already satisfied: tqdm>=4.66.1 in /opt/homebrew/lib/python3.11/site-packages (from dbcompanion) (4.66.1)\n",
      "Requirement already satisfied: python-dateutil>=2.8.1 in /opt/homebrew/lib/python3.11/site-packages (from pandas>=1.5.1->dbcompanion) (2.8.2)\n",
      "Requirement already satisfied: pytz>=2020.1 in /opt/homebrew/lib/python3.11/site-packages (from pandas>=1.5.1->dbcompanion) (2023.3.post1)\n",
      "Requirement already satisfied: numpy>=1.21.0 in /opt/homebrew/lib/python3.11/site-packages (from pandas>=1.5.1->dbcompanion) (1.25.2)\n",
      "Requirement already satisfied: annotated-types>=0.4.0 in /opt/homebrew/lib/python3.11/site-packages (from pydantic>=2->dbcompanion) (0.6.0)\n",
      "Requirement already satisfied: pydantic-core==2.10.1 in /opt/homebrew/lib/python3.11/site-packages (from pydantic>=2->dbcompanion) (2.10.1)\n",
      "Requirement already satisfied: typing-extensions>=4.6.1 in /opt/homebrew/lib/python3.11/site-packages (from pydantic>=2->dbcompanion) (4.8.0)\n",
      "Requirement already satisfied: python-dotenv>=0.21.0 in /opt/homebrew/lib/python3.11/site-packages (from pydantic-settings>=2->dbcompanion) (1.0.0)\n",
      "Requirement already satisfied: anyio<5,>=3.5.0 in /opt/homebrew/lib/python3.11/site-packages (from openai->dbcompanion) (3.7.1)\n",
      "Requirement already satisfied: distro<2,>=1.7.0 in /opt/homebrew/lib/python3.11/site-packages (from openai->dbcompanion) (1.9.0)\n",
      "Requirement already satisfied: httpx<1,>=0.23.0 in /opt/homebrew/lib/python3.11/site-packages (from openai->dbcompanion) (0.25.1)\n",
      "Requirement already satisfied: sniffio in /opt/homebrew/lib/python3.11/site-packages (from openai->dbcompanion) (1.3.0)\n",
      "Requirement already satisfied: idna>=2.8 in /opt/homebrew/lib/python3.11/site-packages (from anyio<5,>=3.5.0->openai->dbcompanion) (3.4)\n",
      "Requirement already satisfied: certifi in /opt/homebrew/lib/python3.11/site-packages (from httpx<1,>=0.23.0->openai->dbcompanion) (2023.7.22)\n",
      "Requirement already satisfied: httpcore in /opt/homebrew/lib/python3.11/site-packages (from httpx<1,>=0.23.0->openai->dbcompanion) (1.0.1)\n",
      "Requirement already satisfied: six>=1.5 in /opt/homebrew/lib/python3.11/site-packages (from python-dateutil>=2.8.1->pandas>=1.5.1->dbcompanion) (1.16.0)\n",
      "Requirement already satisfied: h11<0.15,>=0.13 in /opt/homebrew/lib/python3.11/site-packages (from httpcore->httpx<1,>=0.23.0->openai->dbcompanion) (0.14.0)\n",
      "Downloading dbcompanion-0.0.7-py3-none-any.whl (10 kB)\n",
      "Downloading pydantic_settings-2.1.0-py3-none-any.whl (11 kB)\n",
      "Installing collected packages: pydantic-settings, dbcompanion\n",
      "Successfully installed dbcompanion-0.0.7 pydantic-settings-2.1.0\n"
     ]
    }
   ],
   "source": [
    "!pip3 install dbcompanion"
   ]
  },
  {
   "cell_type": "code",
   "execution_count": 11,
   "metadata": {},
   "outputs": [],
   "source": [
    "import os\n",
    "import dotenv"
   ]
  },
  {
   "cell_type": "code",
   "execution_count": 12,
   "metadata": {},
   "outputs": [
    {
     "data": {
      "text/plain": [
       "True"
      ]
     },
     "execution_count": 12,
     "metadata": {},
     "output_type": "execute_result"
    }
   ],
   "source": [
    "dotenv.load_dotenv()"
   ]
  },
  {
   "cell_type": "code",
   "execution_count": 13,
   "metadata": {},
   "outputs": [],
   "source": [
    "API_KEY = os.environ[\"OPENAI_KEY\"]\n",
    "\n",
    "USERNAME = os.environ[\"USERNAME\"]\n",
    "PASSWORD = os.environ[\"PASSWORD\"]\n",
    "HOST = os.environ[\"HOST\"]\n",
    "PORT = int(os.environ[\"PORT\"])\n",
    "DATABASE = os.environ[\"DATABASE\"]"
   ]
  },
  {
   "cell_type": "code",
   "execution_count": 14,
   "metadata": {},
   "outputs": [],
   "source": [
    "from DBCompanion.report import Report"
   ]
  },
  {
   "cell_type": "code",
   "execution_count": 15,
   "metadata": {},
   "outputs": [],
   "source": [
    "report = Report(name=\"Sri Lanka Food Price Report\",save_directory=\"SampleReport\", api_key=API_KEY)"
   ]
  },
  {
   "cell_type": "code",
   "execution_count": 16,
   "metadata": {},
   "outputs": [],
   "source": [
    "report.add_source_database(\n",
    "    username=USERNAME, \n",
    "    password=PASSWORD, \n",
    "    host=HOST, \n",
    "    port=PORT, \n",
    "    database=DATABASE\n",
    "    )"
   ]
  },
  {
   "cell_type": "code",
   "execution_count": 17,
   "metadata": {},
   "outputs": [],
   "source": [
    "example_instructions = \"\"\"\n",
    "Valid code generattion:\n",
    "```python \n",
    "def plot_yearly_price_for_category_cereals_and_tubers(conn):\n",
    "    import pandas as pd\n",
    "    import matplotlib.pyplot as plt\n",
    "    \n",
    "    query = \"SELECT YEAR(`date`) AS year, AVG(`price`) AS avg_price FROM `sri_lanka_food_prices` WHERE `category` = 'cereals and tubers' GROUP BY YEAR(`date`)\"\n",
    "    df = pd.read_sql_query(query, conn)\n",
    "    \n",
    "    plt.plot(df['year'], df['avg_price'])\n",
    "    plt.xlabel('Year')\n",
    "    plt.ylabel('Average Price')\n",
    "    plt.title('Yearly Price for Category: Cereals and Tubers')\n",
    "    return plt```\n",
    "\n",
    "Invalid code generation:\n",
    "```python \n",
    "def plot_yearly_price_for_category_cereals_and_tubers(conn):\n",
    "    import pandas as pd\n",
    "    import matplotlib.pyplot as plt\n",
    "    \n",
    "    query = \"SELECT YEAR(`date`) AS year, AVG(`price`) AS avg_price FROM `sri_lanka_food_prices` WHERE `category` = 'cereals and tubers' GROUP BY YEAR(`date`)\"\n",
    "    df = pd.read_sql_query(query, conn)\n",
    "    \n",
    "    plt.plot(df['year'], df['avg_price'])\n",
    "    plt.xlabel('Year')\n",
    "    plt.ylabel('Average Price')\n",
    "    plt.title('Yearly Price for Category: Cereals and Tubers')\n",
    "    plt.show()```\n",
    "\"\"\""
   ]
  },
  {
   "cell_type": "code",
   "execution_count": 18,
   "metadata": {},
   "outputs": [],
   "source": [
    "report.add_instruction('example_instruction',example_instructions)"
   ]
  },
  {
   "cell_type": "code",
   "execution_count": 19,
   "metadata": {},
   "outputs": [],
   "source": [
    "report.add_step(\"How many different categories are there?\")"
   ]
  },
  {
   "cell_type": "code",
   "execution_count": 20,
   "metadata": {},
   "outputs": [],
   "source": [
    "report.add_step(\"How many records per year? plot using bar graph.\")"
   ]
  },
  {
   "cell_type": "code",
   "execution_count": 21,
   "metadata": {},
   "outputs": [],
   "source": [
    "report.add_step(\"Plot yearly average price of 'cereals and tubers'\")"
   ]
  },
  {
   "cell_type": "code",
   "execution_count": 22,
   "metadata": {},
   "outputs": [],
   "source": [
    "report.add_step(\"Plot monthly % price change for the category 'cereals and tubers' for year 2017\")"
   ]
  },
  {
   "cell_type": "code",
   "execution_count": 23,
   "metadata": {},
   "outputs": [
    {
     "name": "stderr",
     "output_type": "stream",
     "text": [
      "Compiling report... : 100%|██████████| 4/4 [00:38<00:00,  9.67s/it]\n"
     ]
    }
   ],
   "source": [
    "report.compile_report(force_execute_steps=True)"
   ]
  },
  {
   "cell_type": "code",
   "execution_count": 24,
   "metadata": {},
   "outputs": [],
   "source": [
    "report.save_as_html()"
   ]
  }
 ],
 "metadata": {
  "kernelspec": {
   "display_name": "LLM",
   "language": "python",
   "name": "llm"
  },
  "language_info": {
   "codemirror_mode": {
    "name": "ipython",
    "version": 3
   },
   "file_extension": ".py",
   "mimetype": "text/x-python",
   "name": "python",
   "nbconvert_exporter": "python",
   "pygments_lexer": "ipython3",
   "version": "3.11.6"
  }
 },
 "nbformat": 4,
 "nbformat_minor": 2
}
